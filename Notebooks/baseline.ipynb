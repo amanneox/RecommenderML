{
 "cells": [
  {
   "cell_type": "markdown",
   "metadata": {},
   "source": [
    "# 1. BaseLine Modeling\n",
    "\n",
    "## 1.1 Simple Average Model"
   ]
  },
  {
   "cell_type": "markdown",
   "metadata": {},
   "source": [
    "The first model we'll test is about the simplest one possible. We'll just average all the training set ratings and use that average for the prediction for all test set examples."
   ]
  },
  {
   "cell_type": "code",
   "execution_count": 1,
   "metadata": {},
   "outputs": [],
   "source": [
    "class SimpleAverageModel():\n",
    "    \"\"\"A very simple model that just uses the average of the ratings in the\n",
    "    training set as the prediction for the test set.\n",
    "\n",
    "    Attributes\n",
    "    ----------\n",
    "    mean : float\n",
    "        Average of the training set ratings\n",
    "    \"\"\"\n",
    "\n",
    "    def __init__(self):\n",
    "        pass\n",
    "\n",
    "    def fit(self, X):\n",
    "        \"\"\"Given a ratings dataframe X, compute the mean rating\n",
    "        \n",
    "        Parameters\n",
    "        ----------\n",
    "        X : pandas dataframe, shape = (n_ratings, >=3)\n",
    "            User, item, rating dataframe. Only the 3rd column is used.\n",
    "        \n",
    "        Returns\n",
    "        -------\n",
    "        self\n",
    "        \"\"\"\n",
    "        self.mean = X.iloc[:, 2].mean()\n",
    "        return self\n",
    "\n",
    "    def predict(self, X):\n",
    "        return np.ones(len(X)) * self.mean\n"
   ]
  },
  {
   "cell_type": "markdown",
   "metadata": {},
   "source": [
    "## 1.2 Average by ID"
   ]
  },
  {
   "cell_type": "code",
   "execution_count": 3,
   "metadata": {},
   "outputs": [],
   "source": [
    "\n",
    "\n",
    "# <!-- collapse=True -->\n",
    "class AverageByIdModel():\n",
    "    \"\"\"Simple model that predicts based on average ratings for a given Id\n",
    "    (movieId or userId) from training data\n",
    "    \n",
    "    Parameters\n",
    "    ----------\n",
    "    id_column : string\n",
    "        Name of id column (i.e. 'itemId', 'userId') to average by in\n",
    "        dataframe that will be fitted to\n",
    "\n",
    "    Attributes\n",
    "    ----------\n",
    "    averages_by_id : pandas Series, shape = [n_ids]\n",
    "        Pandas series of rating averages by id\n",
    "    overall_average : float\n",
    "        Average rating over all training samples\n",
    "    \"\"\"\n",
    "    def __init__(self, id_column):\n",
    "        self.id_column = id_column\n",
    "\n",
    "    def fit(self, X):\n",
    "        \"\"\"Fit training data.\n",
    "\n",
    "        Parameters\n",
    "        ----------\n",
    "        X : pandas dataframe, shape = (n_ratings, >=3)\n",
    "            User, item, rating dataframe. Columns beyond 3 are ignored\n",
    "\n",
    "        Returns\n",
    "        -------\n",
    "        self : object\n",
    "        \"\"\"\n",
    "        rating_column = X.columns[2]\n",
    "        X = X[[self.id_column, rating_column]].copy()\n",
    "        X.columns = ['id', 'rating']\n",
    "        self.averages_by_id = (\n",
    "            X\n",
    "            .groupby('id')['rating']\n",
    "            .mean()\n",
    "            .rename('average_rating')\n",
    "        )\n",
    "        self.overall_average = X['rating'].mean()\n",
    "        return self\n",
    "\n",
    "    def predict(self, X):\n",
    "        \"\"\"Return rating predictions\n",
    "\n",
    "        Parameters\n",
    "        ----------\n",
    "        X : pandas dataframe, shape = (n_ratings, >=3)\n",
    "            Array of n_ratings movieIds or userIds\n",
    "\n",
    "        Returns\n",
    "        -------\n",
    "        y_pred : numpy array, shape = (n_ratings,)\n",
    "            Array of n_samples rating predictions\n",
    "        \"\"\"\n",
    "        rating_column = X.columns[2]\n",
    "        X = X[[self.id_column, rating_column]].copy()\n",
    "        X.columns = ['id', 'rating']\n",
    "        X = X.join(self.averages_by_id, on='id')\n",
    "        X['average_rating'].fillna(self.overall_average, inplace=True)\n",
    "        return X['average_rating'].values\n",
    "\n"
   ]
  },
  {
   "cell_type": "markdown",
   "metadata": {},
   "source": [
    "\n",
    "## 2.3 Damped Baseline with User + Movie Data\n",
    "\n",
    "This baseline model takes into account the average ratings of both the user and the movie, as well as a damping factor that brings the baseline prediction closer to the overall mean. The damping factor has been shown empirically to improve the perfomance.\n",
    "\n",
    "This model follows equation 2.1 from a collaborative filtering paper from GroupLens, the same group that published the MovieLens data. This equation defines rhe baseline rating for user $u$ and item $i$ as\n",
    "$$b_{u,i} = \\mu + b_u + b_i$$\n",
    "\n",
    "where\n",
    "$$b_u = \\frac{1}{|I_u| + \\beta_u}\\sum_{i \\in I_u} (r_{u,i} - \\mu)$$\n",
    "\n",
    "and\n",
    "$$b_i = \\frac{1}{|U_i| + \\beta_i}\\sum_{u \\in U_i} (r_{u,i} - b_u - \\mu).$$\n",
    "\n",
    "(See equations 2.4 and 2.5). Here, $\\beta_u$ and $\\beta_i$ are damping factors, for which the paper reported 25 is a good number for this dataset. For now we'll just leave these values equal ($\\beta=\\beta_u=\\beta_i$). Here's a summary of the meanings of all the variables here:"
   ]
  },
  {
   "cell_type": "code",
   "execution_count": null,
   "metadata": {},
   "outputs": [],
   "source": []
  }
 ],
 "metadata": {
  "kernelspec": {
   "display_name": "Python 3",
   "language": "python",
   "name": "python3"
  },
  "language_info": {
   "codemirror_mode": {
    "name": "ipython",
    "version": 3
   },
   "file_extension": ".py",
   "mimetype": "text/x-python",
   "name": "python",
   "nbconvert_exporter": "python",
   "pygments_lexer": "ipython3",
   "version": "3.7.2"
  }
 },
 "nbformat": 4,
 "nbformat_minor": 2
}
